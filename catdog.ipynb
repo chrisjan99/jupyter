{
 "cells": [
  {
   "cell_type": "code",
   "execution_count": 1,
   "metadata": {
    "collapsed": true
   },
   "outputs": [],
   "source": [
    "import tensorflow as tf\n",
    "import numpy as np\n",
    "import os\n",
    "import math"
   ]
  },
  {
   "cell_type": "code",
   "execution_count": 2,
   "metadata": {
    "collapsed": true
   },
   "outputs": [],
   "source": [
    "img_dir = '/home/chrisjan/project/training/catdog/images/train/'\n",
    "logs_train_dir = '/home/chrisjan/project/training/catdog/models/train/'\n",
    "logs_eval_dir = '/home/chrisjan/project/training/catdog/models/eval/'\n",
    "eval_ratio = 0.2\n",
    "img_width = 208\n",
    "img_height = 208\n",
    "batch_size = 8\n",
    "capacity = 20000\n",
    "n_class = 2\n",
    "learning_rate = 0.0001\n",
    "MAX_STEP = 6000"
   ]
  },
  {
   "cell_type": "code",
   "execution_count": 3,
   "metadata": {
    "collapsed": true
   },
   "outputs": [],
   "source": [
    "def group_train_eval(img_dir, eval_ratio):\n",
    "    cats = []\n",
    "    label_cats = []\n",
    "    dogs = []\n",
    "    label_dogs = []\n",
    "    for file in os.listdir(img_dir):\n",
    "        name = file.split(sep='.')\n",
    "        if name[0]=='cat':\n",
    "            cats.append(img_dir + file)\n",
    "            label_cats.append(0)\n",
    "        else:\n",
    "            dogs.append(img_dir + file)\n",
    "            label_dogs.append(1)\n",
    "    #print('There are %d cats\\nThere are %d dogs' %(len(cats), len(dogs)))\n",
    "    image_list = np.hstack((cats, dogs))\n",
    "    label_list = np.hstack((label_cats, label_dogs))\n",
    "    temp = np.array([image_list, label_list])\n",
    "    temp = temp.transpose()\n",
    "    np.random.shuffle(temp)\n",
    "    all_image_list = temp[:, 0]\n",
    "    all_label_list = temp[:, 1]\n",
    "    n_sample = len(all_label_list)\n",
    "    n_eval = math.ceil(n_sample * eval_ratio)\n",
    "    n_train = n_sample - n_eval\n",
    "    train_images = all_image_list[0:n_train]\n",
    "    train_labels = all_label_list[0:n_train]\n",
    "    train_labels = [int(float(i)) for i in train_labels]\n",
    "    eval_images = all_image_list[n_train:-1]\n",
    "    eval_labels = all_label_list[n_train:-1]\n",
    "    eval_labels = [int(float(i)) for i in eval_labels]\n",
    "    return train_images, train_labels, eval_images, eval_labels\n",
    "\n",
    "def batch_train_eval(image, label, image_W, image_H, batch_size, capacity):\n",
    "    image = tf.cast(image, tf.string)\n",
    "    label = tf.cast(label, tf.int32)\n",
    "    input_queue = tf.train.slice_input_producer([image, label])\n",
    "    label = input_queue[1]\n",
    "    image_contents = tf.read_file(input_queue[0])\n",
    "    image = tf.image.decode_jpeg(image_contents, channels=3)\n",
    "    image = tf.image.resize_image_with_crop_or_pad(image, image_W, image_H)    \n",
    "    image = tf.image.per_image_standardization(image)\n",
    "    image_batch, label_batch = tf.train.batch([image, label], batch_size= batch_size, num_threads= 64, capacity = capacity)\n",
    "    label_batch = tf.reshape(label_batch, [batch_size])\n",
    "    image_batch = tf.cast(image_batch, tf.float32)\n",
    "    return image_batch, label_batch\n",
    "\n",
    "def inference(images, batch_size, n_classes):\n",
    "    #conv1\n",
    "    with tf.variable_scope('conv1') as scope:\n",
    "        weights = tf.get_variable('weights', shape = [3,3,3,16], dtype=tf.float32, initializer=tf.truncated_normal_initializer(stddev=0.1,dtype=tf.float32))\n",
    "        biases = tf.get_variable('biases', shape=[16], dtype=tf.float32, initializer=tf.constant_initializer(0.1))\n",
    "        conv = tf.nn.conv2d(images, weights, strides=[1,1,1,1], padding='SAME')\n",
    "        pre_activation = tf.nn.bias_add(conv, biases)\n",
    "        conv1 = tf.nn.relu(pre_activation, name = scope.name)\n",
    "    \n",
    "    #pool1 and norm1   \n",
    "    with tf.variable_scope('pooling1_lrn') as scope:\n",
    "        pool1 = tf.nn.max_pool(conv1, ksize=[1,3,3,1], strides=[1,2,2,1], padding='SAME', name='pooling1')\n",
    "        norm1 = tf.nn.lrn(pool1, depth_radius=4, bias=1.0, alpha=0.001/9.0, beta=0.75,name='norm1')\n",
    "    \n",
    "    #conv2\n",
    "    with tf.variable_scope('conv2') as scope:\n",
    "        weights = tf.get_variable('weights', shape=[3,3,16,16], dtype=tf.float32, initializer=tf.truncated_normal_initializer(stddev=0.1,dtype=tf.float32))\n",
    "        biases = tf.get_variable('biases', shape=[16], dtype=tf.float32, initializer=tf.constant_initializer(0.1))\n",
    "        conv = tf.nn.conv2d(norm1, weights, strides=[1,1,1,1], padding='SAME')\n",
    "        pre_activation = tf.nn.bias_add(conv, biases)\n",
    "        conv2 = tf.nn.relu(pre_activation, name='conv2')\n",
    "    \n",
    "    #pool2 and norm2\n",
    "    with tf.variable_scope('pooling2_lrn') as scope:\n",
    "        norm2 = tf.nn.lrn(conv2, depth_radius=4, bias=1.0, alpha=0.001/9.0, beta=0.75,name='norm2')\n",
    "        pool2 = tf.nn.max_pool(norm2, ksize=[1,3,3,1], strides=[1,1,1,1], padding='SAME',name='pooling2')\n",
    "    \n",
    "    #local3\n",
    "    with tf.variable_scope('local3') as scope:\n",
    "        reshape = tf.reshape(pool2, shape=[batch_size, -1])\n",
    "        dim = reshape.get_shape()[1].value\n",
    "        weights = tf.get_variable('weights', shape=[dim,128], dtype=tf.float32, initializer=tf.truncated_normal_initializer(stddev=0.005,dtype=tf.float32))\n",
    "        biases = tf.get_variable('biases', shape=[128], dtype=tf.float32, initializer=tf.constant_initializer(0.1))\n",
    "        local3 = tf.nn.relu(tf.matmul(reshape, weights) + biases, name=scope.name)    \n",
    "    \n",
    "    #local4\n",
    "    with tf.variable_scope('local4') as scope:\n",
    "        weights = tf.get_variable('weights', shape=[128,128], dtype=tf.float32, initializer=tf.truncated_normal_initializer(stddev=0.005,dtype=tf.float32))\n",
    "        biases = tf.get_variable('biases', shape=[128], dtype=tf.float32, initializer=tf.constant_initializer(0.1))\n",
    "        local4 = tf.nn.relu(tf.matmul(local3, weights) + biases, name='local4')\n",
    "        \n",
    "    # softmax\n",
    "    with tf.variable_scope('softmax_linear') as scope:\n",
    "        weights = tf.get_variable('softmax_linear', shape=[128, n_classes], dtype=tf.float32, initializer=tf.truncated_normal_initializer(stddev=0.005,dtype=tf.float32))\n",
    "        biases = tf.get_variable('biases', shape=[n_classes], dtype=tf.float32, initializer=tf.constant_initializer(0.1))\n",
    "        softmax_linear = tf.add(tf.matmul(local4, weights), biases, name='softmax_linear')\n",
    "    \n",
    "    return softmax_linear\n",
    "\n",
    "def losses(logits, labels):\n",
    "    with tf.variable_scope('loss') as scope:\n",
    "        cross_entropy = tf.nn.sparse_softmax_cross_entropy_with_logits(logits=logits, labels=labels, name='xentropy_per_example')\n",
    "        loss = tf.reduce_mean(cross_entropy, name='loss')\n",
    "        tf.summary.scalar(scope.name+'/loss', loss)\n",
    "    return loss\n",
    "\n",
    "def trainning(loss, learning_rate):\n",
    "    with tf.name_scope('optimizer'):\n",
    "        optimizer = tf.train.AdamOptimizer(learning_rate= learning_rate)\n",
    "        global_step = tf.Variable(0, name='global_step', trainable=False)\n",
    "        train_op = optimizer.minimize(loss, global_step= global_step)\n",
    "    return train_op\n",
    "\n",
    "def evaluation(logits, labels):\n",
    "    with tf.variable_scope('accuracy') as scope:\n",
    "        correct = tf.nn.in_top_k(logits, labels, 1)\n",
    "        correct = tf.cast(correct, tf.float16)\n",
    "        accuracy = tf.reduce_mean(correct)\n",
    "        tf.summary.scalar(scope.name + '/accuracy', accuracy)\n",
    "    return accuracy"
   ]
  },
  {
   "cell_type": "code",
   "execution_count": 4,
   "metadata": {
    "collapsed": true
   },
   "outputs": [],
   "source": [
    "train_images, train_labels, eval_images, eval_labels = group_train_eval(img_dir, eval_ratio)\n",
    "train_batch, train_label_batch = batch_train_eval(train_images, train_labels, img_width, img_height, batch_size, capacity)\n",
    "eval_batch, eval_label_batch = batch_train_eval(eval_images, eval_labels, img_width, img_height, batch_size, capacity)"
   ]
  },
  {
   "cell_type": "code",
   "execution_count": 5,
   "metadata": {
    "collapsed": true
   },
   "outputs": [],
   "source": [
    "logits = inference(train_batch, batch_size, n_class)\n",
    "loss = losses(logits, train_label_batch)\n",
    "train_op = trainning(loss, learning_rate)\n",
    "acc = evaluation(logits, train_label_batch)\n",
    "x = tf.placeholder(tf.float32, shape=[batch_size, img_width, img_height, 3])\n",
    "y_ = tf.placeholder(tf.int16, shape=[batch_size])"
   ]
  },
  {
   "cell_type": "code",
   "execution_count": null,
   "metadata": {
    "scrolled": false
   },
   "outputs": [
    {
     "name": "stdout",
     "output_type": "stream",
     "text": [
      "Step 0, train loss = 0.69, train accuracy = 43.75%\n",
      "**  Step 0, val loss = 0.69, val accuracy = 43.75%  **\n",
      "Step 50, train loss = 0.67, train accuracy = 62.50%\n",
      "Step 100, train loss = 0.70, train accuracy = 43.75%\n",
      "Step 150, train loss = 0.69, train accuracy = 56.25%\n"
     ]
    }
   ],
   "source": [
    "with tf.Session() as sess:\n",
    "    saver = tf.train.Saver()\n",
    "    sess.run(tf.global_variables_initializer())\n",
    "    coord = tf.train.Coordinator()\n",
    "    threads = tf.train.start_queue_runners(sess=sess, coord=coord)\n",
    "    summary_op = tf.summary.merge_all()        \n",
    "    train_writer = tf.summary.FileWriter(logs_train_dir, sess.graph)\n",
    "    eval_writer = tf.summary.FileWriter(logs_eval_dir, sess.graph)\n",
    "\n",
    "    try:\n",
    "        for step in np.arange(MAX_STEP):\n",
    "            if coord.should_stop():\n",
    "                break\n",
    "\n",
    "            tra_images, tra_labels = sess.run([train_batch, train_label_batch])\n",
    "            _, tra_loss, tra_acc = sess.run([train_op, loss, acc], feed_dict={x:tra_images, y_:tra_labels})\n",
    "            if step % 50 == 0:\n",
    "                print('Step %d, train loss = %.2f, train accuracy = %.2f%%' %(step, tra_loss, tra_acc*100.0))\n",
    "                summary_str = sess.run(summary_op)\n",
    "                train_writer.add_summary(summary_str, step)\n",
    "\n",
    "            if step % 200 == 0 or (step + 1) == MAX_STEP:\n",
    "                eval_images, eval_labels = sess.run([eval_batch, eval_label_batch])\n",
    "                val_loss, val_acc = sess.run([loss, acc], feed_dict={x:eval_images, y_:eval_labels})\n",
    "                print('**  Step %d, val loss = %.2f, val accuracy = %.2f%%  **' %(step, val_loss, val_acc*100.0))\n",
    "                summary_str = sess.run(summary_op)\n",
    "                eval_writer.add_summary(summary_str, step)  \n",
    "\n",
    "            if step % 2000 == 0 or (step + 1) == MAX_STEP:\n",
    "                checkpoint_path = os.path.join(logs_train_dir, 'model.ckpt')\n",
    "                saver.save(sess, checkpoint_path, global_step=step)\n",
    "\n",
    "    except tf.errors.OutOfRangeError:\n",
    "        print('Done training -- epoch limit reached')\n",
    "    finally:\n",
    "        coord.request_stop()           \n",
    "    coord.join(threads)"
   ]
  },
  {
   "cell_type": "code",
   "execution_count": 9,
   "metadata": {
    "collapsed": true
   },
   "outputs": [],
   "source": []
  },
  {
   "cell_type": "code",
   "execution_count": 10,
   "metadata": {
    "collapsed": true
   },
   "outputs": [],
   "source": []
  },
  {
   "cell_type": "code",
   "execution_count": 11,
   "metadata": {
    "collapsed": true
   },
   "outputs": [],
   "source": []
  },
  {
   "cell_type": "code",
   "execution_count": null,
   "metadata": {
    "collapsed": true
   },
   "outputs": [],
   "source": []
  }
 ],
 "metadata": {
  "kernelspec": {
   "display_name": "Python 3",
   "language": "python",
   "name": "python3"
  },
  "language_info": {
   "codemirror_mode": {
    "name": "ipython",
    "version": 3
   },
   "file_extension": ".py",
   "mimetype": "text/x-python",
   "name": "python",
   "nbconvert_exporter": "python",
   "pygments_lexer": "ipython3",
   "version": "3.5.2"
  }
 },
 "nbformat": 4,
 "nbformat_minor": 2
}
