{
 "cells": [
  {
   "cell_type": "code",
   "execution_count": 2,
   "metadata": {
    "collapsed": true
   },
   "outputs": [],
   "source": [
    "import pickle\n",
    "import os\n",
    "from PIL import Image\n",
    "import numpy as np"
   ]
  },
  {
   "cell_type": "code",
   "execution_count": 3,
   "metadata": {
    "collapsed": true
   },
   "outputs": [],
   "source": [
    "def shuffle(*arrs):\n",
    "    arrs = list(arrs)\n",
    "    for i, arr in enumerate(arrs):\n",
    "        assert len(arrs[0]) == len(arrs[i])\n",
    "        arrs[i] = np.array(arr)\n",
    "    p = np.random.permutation(len(arrs[0]))\n",
    "    return tuple(arr[p] for arr in arrs)\n",
    "\n",
    "def to_categorical(y, nb_classes):\n",
    "    y = np.asarray(y, dtype='int32')\n",
    "    # high dimensional array warning\n",
    "    if len(y.shape) > 2:\n",
    "        warnings.warn('{}-dimensional array is used as input array.'.format(len(y.shape)), stacklevel=2)\n",
    "    # flatten high dimensional array\n",
    "    if len(y.shape) > 1:\n",
    "        y = y.reshape(-1)\n",
    "    if not nb_classes:\n",
    "        nb_classes = np.max(y)+1\n",
    "    Y = np.zeros((len(y), nb_classes))\n",
    "    Y[np.arange(len(y)),y] = 1.\n",
    "    return Y\n",
    "\n",
    "def load_from_dir(directory):\n",
    "    samples = []\n",
    "    labels = []\n",
    "    label = 0\n",
    "    files = sorted(os.walk(directory).__next__()[2])\n",
    "    for file in files:\n",
    "        img = Image.open(os.path.join(img_dir, file))\n",
    "        samples.append(np.asarray(img, dtype=\"float32\")/255.)\n",
    "        labels.append(label)\n",
    "        label += 1\n",
    "    return samples, labels\n",
    "\n"
   ]
  },
  {
   "cell_type": "code",
   "execution_count": 4,
   "metadata": {
    "collapsed": true
   },
   "outputs": [],
   "source": [
    "img_dir = '/home/chrisjan/project/training/koi_train4/images/'\n",
    "X, Y = load_from_dir(img_dir)\n"
   ]
  },
  {
   "cell_type": "code",
   "execution_count": 9,
   "metadata": {},
   "outputs": [
    {
     "data": {
      "text/plain": [
       "array([ 0.04705882,  0.25098041,  0.40784314], dtype=float32)"
      ]
     },
     "execution_count": 9,
     "metadata": {},
     "output_type": "execute_result"
    }
   ],
   "source": [
    "X[1][0][0]"
   ]
  },
  {
   "cell_type": "code",
   "execution_count": 13,
   "metadata": {
    "collapsed": true
   },
   "outputs": [],
   "source": [
    "X, Y = shuffle(X, Y)"
   ]
  },
  {
   "cell_type": "code",
   "execution_count": 15,
   "metadata": {},
   "outputs": [
    {
     "data": {
      "text/plain": [
       "(50, 590, 250, 3)"
      ]
     },
     "execution_count": 15,
     "metadata": {},
     "output_type": "execute_result"
    }
   ],
   "source": [
    "X.shape"
   ]
  },
  {
   "cell_type": "code",
   "execution_count": null,
   "metadata": {
    "collapsed": true
   },
   "outputs": [],
   "source": []
  }
 ],
 "metadata": {
  "kernelspec": {
   "display_name": "Python 3",
   "language": "python",
   "name": "python3"
  },
  "language_info": {
   "codemirror_mode": {
    "name": "ipython",
    "version": 3
   },
   "file_extension": ".py",
   "mimetype": "text/x-python",
   "name": "python",
   "nbconvert_exporter": "python",
   "pygments_lexer": "ipython3",
   "version": "3.5.2"
  }
 },
 "nbformat": 4,
 "nbformat_minor": 2
}
