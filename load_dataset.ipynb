{
 "cells": [
  {
   "cell_type": "code",
   "execution_count": 61,
   "metadata": {
    "collapsed": true
   },
   "outputs": [],
   "source": [
    "import pickle\n",
    "import os\n",
    "import random\n",
    "from PIL import Image\n",
    "import numpy as np"
   ]
  },
  {
   "cell_type": "code",
   "execution_count": 62,
   "metadata": {
    "collapsed": true
   },
   "outputs": [],
   "source": [
    "def shuffle(*arrs):\n",
    "    arrs = list(arrs)\n",
    "    for i, arr in enumerate(arrs):\n",
    "        assert len(arrs[0]) == len(arrs[i])\n",
    "        arrs[i] = np.array(arr)\n",
    "    p = np.random.permutation(len(arrs[0]))\n",
    "    return tuple(arr[p] for arr in arrs)\n",
    "\n",
    "def to_categorical(y, nb_classes):\n",
    "    y = np.asarray(y, dtype='int32')\n",
    "    # high dimensional array warning\n",
    "    if len(y.shape) > 2:\n",
    "        warnings.warn('{}-dimensional array is used as input array.'.format(len(y.shape)), stacklevel=2)\n",
    "    # flatten high dimensional array\n",
    "    if len(y.shape) > 1:\n",
    "        y = y.reshape(-1)\n",
    "    if not nb_classes:\n",
    "        nb_classes = np.max(y)+1\n",
    "    Y = np.zeros((len(y), nb_classes))\n",
    "    Y[np.arange(len(y)),y] = 1.\n",
    "    return Y\n",
    "\n",
    "def load_from_dir(directory, resize=None):\n",
    "    train_samples = []\n",
    "    train_labels = []\n",
    "    test_samples = []\n",
    "    test_labels = []\n",
    "    label = 0\n",
    "    dirs = sorted(os.walk(directory).__next__()[1])\n",
    "    for d in dirs:\n",
    "        files = sorted(os.walk(directory + d).__next__()[2])\n",
    "        test_img_file = random.choice(files)\n",
    "        for file in files:\n",
    "            if test_img_file == file:\n",
    "                test_img = Image.open(os.path.join(directory + d, file))\n",
    "                if resize:\n",
    "                    test_img = test_img.resize(resize, Image.ANTIALIAS)\n",
    "                test_samples.append(np.asarray(test_img, dtype=\"float32\")/255.)\n",
    "                test_labels.append(label)\n",
    "            img = Image.open(os.path.join(directory + d, file))\n",
    "            if resize:\n",
    "                img = img.resize(resize, Image.ANTIALIAS)\n",
    "            train_samples.append(np.asarray(img, dtype=\"float32\")/255.)\n",
    "            train_labels.append(label)\n",
    "        label += 1\n",
    "    return train_samples, train_labels, test_samples, test_labels\n",
    "\n",
    "def load_dataset(directory, dataset_file, resize=None, shuffle_data=False, one_hot=False):\n",
    "    try:\n",
    "        X_train, X_label, Y_test, Y_label = pickle.load(open(dataset_file, 'rb'))\n",
    "    except Exception:\n",
    "        X_train, X_label, Y_test, Y_label = load_from_dir(directory, resize)\n",
    "        pickle.dump((X_train, X_label, Y_test, Y_label), open(dataset_file, 'wb'))\n",
    "    if one_hot:\n",
    "        X_label = to_categorical(X_label, np.max(X_label) + 1)\n",
    "        Y_label = to_categorical(Y_label, np.max(Y_label) + 1)\n",
    "    if shuffle_data:\n",
    "        X_train, X_label = shuffle(X_train, X_label)\n",
    "        Y_test, Y_label = shuffle(Y_test, Y_label)\n",
    "    return X_train, X_label, Y_test, Y_label"
   ]
  },
  {
   "cell_type": "code",
   "execution_count": 63,
   "metadata": {},
   "outputs": [],
   "source": [
    "img_dir = '/home/chrisjan/project/training/koi_train5/images/train/'\n",
    "dataset_file = '/home/chrisjan/project/training/koi_train5/data/koi_dataset.pkl'\n",
    "\n",
    "X_train, X_label, Y_test, Y_label = load_from_dir(img_dir, (150,200))"
   ]
  },
  {
   "cell_type": "code",
   "execution_count": 102,
   "metadata": {},
   "outputs": [
    {
     "data": {
      "text/plain": [
       "array([[[ 1.        ,  1.        ,  1.        ,  1.        ],\n",
       "        [ 1.        ,  1.        ,  1.        ,  1.        ],\n",
       "        [ 1.        ,  1.        ,  1.        ,  1.        ],\n",
       "        ..., \n",
       "        [ 1.        ,  1.        ,  1.        ,  1.        ],\n",
       "        [ 1.        ,  1.        ,  1.        ,  1.        ],\n",
       "        [ 1.        ,  1.        ,  1.        ,  1.        ]],\n",
       "\n",
       "       [[ 1.        ,  1.        ,  1.        ,  1.        ],\n",
       "        [ 1.        ,  1.        ,  1.        ,  1.        ],\n",
       "        [ 0.97254902,  0.98823529,  0.99607843,  1.        ],\n",
       "        ..., \n",
       "        [ 0.96862745,  0.98823529,  0.99215686,  1.        ],\n",
       "        [ 0.96862745,  0.98823529,  0.99215686,  1.        ],\n",
       "        [ 0.96862745,  0.98823529,  0.99215686,  1.        ]],\n",
       "\n",
       "       [[ 1.        ,  1.        ,  1.        ,  1.        ],\n",
       "        [ 0.99607843,  1.        ,  0.99607843,  1.        ],\n",
       "        [ 0.38039216,  0.70588237,  0.87450981,  1.        ],\n",
       "        ..., \n",
       "        [ 0.24313726,  0.63921571,  0.84705883,  1.        ],\n",
       "        [ 0.24313726,  0.63921571,  0.84705883,  1.        ],\n",
       "        [ 0.24313726,  0.63921571,  0.84705883,  1.        ]],\n",
       "\n",
       "       ..., \n",
       "       [[ 1.        ,  1.        ,  1.        ,  1.        ],\n",
       "        [ 0.99607843,  1.        ,  1.        ,  1.        ],\n",
       "        [ 0.32156864,  0.69803923,  0.84313726,  1.        ],\n",
       "        ..., \n",
       "        [ 0.1882353 ,  0.63529414,  0.79607844,  1.        ],\n",
       "        [ 0.1882353 ,  0.63921571,  0.80000001,  1.        ],\n",
       "        [ 0.1882353 ,  0.63921571,  0.80000001,  1.        ]],\n",
       "\n",
       "       [[ 1.        ,  1.        ,  1.        ,  1.        ],\n",
       "        [ 0.99215686,  1.        ,  1.        ,  1.        ],\n",
       "        [ 0.32549021,  0.72156864,  0.87843138,  1.        ],\n",
       "        ..., \n",
       "        [ 0.14509805,  0.61176473,  0.78823531,  1.        ],\n",
       "        [ 0.14901961,  0.6156863 ,  0.79215688,  1.        ],\n",
       "        [ 0.14901961,  0.6156863 ,  0.78823531,  1.        ]],\n",
       "\n",
       "       [[ 1.        ,  1.        ,  1.        ,  1.        ],\n",
       "        [ 0.99607843,  1.        ,  1.        ,  1.        ],\n",
       "        [ 0.29019609,  0.56470591,  0.65882355,  1.        ],\n",
       "        ..., \n",
       "        [ 0.42352942,  0.74117649,  0.8509804 ,  1.        ],\n",
       "        [ 0.42745098,  0.74901962,  0.85490197,  1.        ],\n",
       "        [ 0.42745098,  0.75294119,  0.85490197,  1.        ]]], dtype=float32)"
      ]
     },
     "execution_count": 102,
     "metadata": {},
     "output_type": "execute_result"
    }
   ],
   "source": [
    "X_train[431]"
   ]
  },
  {
   "cell_type": "code",
   "execution_count": 41,
   "metadata": {},
   "outputs": [
    {
     "ename": "ValueError",
     "evalue": "could not broadcast input array from shape (400,300,3) into shape (400,300)",
     "output_type": "error",
     "traceback": [
      "\u001b[0;31m---------------------------------------------------------------------------\u001b[0m",
      "\u001b[0;31mValueError\u001b[0m                                Traceback (most recent call last)",
      "\u001b[0;32m<ipython-input-41-17f4303a136f>\u001b[0m in \u001b[0;36m<module>\u001b[0;34m()\u001b[0m\n\u001b[0;32m----> 1\u001b[0;31m \u001b[0mX\u001b[0m\u001b[0;34m,\u001b[0m \u001b[0mY\u001b[0m \u001b[0;34m=\u001b[0m \u001b[0mshuffle\u001b[0m\u001b[0;34m(\u001b[0m\u001b[0mX_train\u001b[0m\u001b[0;34m,\u001b[0m \u001b[0mX_label\u001b[0m\u001b[0;34m)\u001b[0m\u001b[0;34m\u001b[0m\u001b[0m\n\u001b[0m",
      "\u001b[0;32m<ipython-input-38-ecff1491d9fd>\u001b[0m in \u001b[0;36mshuffle\u001b[0;34m(*arrs)\u001b[0m\n\u001b[1;32m      3\u001b[0m     \u001b[0;32mfor\u001b[0m \u001b[0mi\u001b[0m\u001b[0;34m,\u001b[0m \u001b[0marr\u001b[0m \u001b[0;32min\u001b[0m \u001b[0menumerate\u001b[0m\u001b[0;34m(\u001b[0m\u001b[0marrs\u001b[0m\u001b[0;34m)\u001b[0m\u001b[0;34m:\u001b[0m\u001b[0;34m\u001b[0m\u001b[0m\n\u001b[1;32m      4\u001b[0m         \u001b[0;32massert\u001b[0m \u001b[0mlen\u001b[0m\u001b[0;34m(\u001b[0m\u001b[0marrs\u001b[0m\u001b[0;34m[\u001b[0m\u001b[0;36m0\u001b[0m\u001b[0;34m]\u001b[0m\u001b[0;34m)\u001b[0m \u001b[0;34m==\u001b[0m \u001b[0mlen\u001b[0m\u001b[0;34m(\u001b[0m\u001b[0marrs\u001b[0m\u001b[0;34m[\u001b[0m\u001b[0mi\u001b[0m\u001b[0;34m]\u001b[0m\u001b[0;34m)\u001b[0m\u001b[0;34m\u001b[0m\u001b[0m\n\u001b[0;32m----> 5\u001b[0;31m         \u001b[0marrs\u001b[0m\u001b[0;34m[\u001b[0m\u001b[0mi\u001b[0m\u001b[0;34m]\u001b[0m \u001b[0;34m=\u001b[0m \u001b[0mnp\u001b[0m\u001b[0;34m.\u001b[0m\u001b[0marray\u001b[0m\u001b[0;34m(\u001b[0m\u001b[0marr\u001b[0m\u001b[0;34m)\u001b[0m\u001b[0;34m\u001b[0m\u001b[0m\n\u001b[0m\u001b[1;32m      6\u001b[0m     \u001b[0mp\u001b[0m \u001b[0;34m=\u001b[0m \u001b[0mnp\u001b[0m\u001b[0;34m.\u001b[0m\u001b[0mrandom\u001b[0m\u001b[0;34m.\u001b[0m\u001b[0mpermutation\u001b[0m\u001b[0;34m(\u001b[0m\u001b[0mlen\u001b[0m\u001b[0;34m(\u001b[0m\u001b[0marrs\u001b[0m\u001b[0;34m[\u001b[0m\u001b[0;36m0\u001b[0m\u001b[0;34m]\u001b[0m\u001b[0;34m)\u001b[0m\u001b[0;34m)\u001b[0m\u001b[0;34m\u001b[0m\u001b[0m\n\u001b[1;32m      7\u001b[0m     \u001b[0;32mreturn\u001b[0m \u001b[0mtuple\u001b[0m\u001b[0;34m(\u001b[0m\u001b[0marr\u001b[0m\u001b[0;34m[\u001b[0m\u001b[0mp\u001b[0m\u001b[0;34m]\u001b[0m \u001b[0;32mfor\u001b[0m \u001b[0marr\u001b[0m \u001b[0;32min\u001b[0m \u001b[0marrs\u001b[0m\u001b[0;34m)\u001b[0m\u001b[0;34m\u001b[0m\u001b[0m\n",
      "\u001b[0;31mValueError\u001b[0m: could not broadcast input array from shape (400,300,3) into shape (400,300)"
     ]
    }
   ],
   "source": [
    "X, Y = shuffle(X_train, X_label)"
   ]
  },
  {
   "cell_type": "code",
   "execution_count": 33,
   "metadata": {},
   "outputs": [
    {
     "data": {
      "text/plain": [
       "array([12,  5, 15, 22, 12, 26, 21, 22, 16,  7, 14,  5, 24,  7,  6, 24,  5,\n",
       "       21,  5, 17,  4, 19, 17,  9, 27, 18, 26, 19,  8, 24,  7, 26, 17,  5,\n",
       "       11,  5, 23, 20, 21, 10,  3,  7, 17, 21, 18, 18, 11, 11,  5, 10,  8,\n",
       "       14, 25, 28, 25, 17,  1, 12, 28,  2,  5, 17,  4, 11, 24,  0, 10, 20,\n",
       "       18, 20, 23,  6, 24, 16, 25, 23,  0, 18,  6,  8, 26, 14, 17, 23, 15,\n",
       "       16,  5, 12,  0, 10,  9, 27,  2,  8,  0, 25, 21,  2, 18, 16, 10,  1,\n",
       "        3, 19, 27, 23,  8, 23, 21,  6, 27, 13,  7, 14,  8, 24, 28,  4, 17,\n",
       "       25,  3, 13, 25, 23,  0, 18, 16,  1, 14, 12,  8, 23,  5, 12, 25,  7,\n",
       "        9, 11, 19, 10, 14, 10, 14,  8, 18, 16, 29, 26, 19, 28, 20, 16,  3,\n",
       "       22, 18, 17,  9, 14, 10, 14, 26, 25,  4, 20, 29,  6, 29,  4, 28, 16,\n",
       "        4,  1, 10,  7, 20, 13, 20, 20, 10,  7,  0, 12,  9, 12, 25, 29, 12,\n",
       "        1, 24, 15, 27, 21,  3,  9, 11,  3, 16,  6, 23, 15, 29, 17,  4, 12,\n",
       "        4, 16, 23,  3, 19,  2, 16,  8, 25,  0, 29, 26,  3, 13, 19,  4, 28,\n",
       "        1,  6, 20, 19, 24, 22, 10, 14,  9,  0, 15,  9, 17,  6, 26, 29, 17,\n",
       "        2, 13, 11, 16, 12, 15, 14, 14, 23,  8, 28, 19, 12, 20, 27,  5, 18,\n",
       "        1, 29, 11, 28,  1,  3, 27,  1, 29,  7, 15, 26,  2, 28,  9, 22, 15,\n",
       "       29, 13,  4, 21, 16, 27, 12,  3, 27,  4, 13,  3,  1, 22, 11, 15,  7,\n",
       "       13, 11,  0, 20, 28, 27,  7, 17, 11,  6, 20, 18, 22, 28,  5, 27, 13,\n",
       "        2,  9, 15, 11,  3, 11, 11,  1, 20, 21, 22,  0,  7,  9, 24,  3, 22,\n",
       "        6,  7, 16, 25, 16, 26, 18,  5,  8,  9,  4,  2,  3, 29, 29,  2, 14,\n",
       "       23, 28, 24,  4, 20, 29, 13, 26, 19,  2, 24, 24,  6, 29,  7, 16, 15,\n",
       "        7, 14,  3, 11, 13, 16,  4,  2, 25,  2, 27, 10, 23,  2, 15, 22, 11,\n",
       "       21, 10, 29, 15, 26, 26,  8, 24, 15, 17, 19, 21, 23, 22, 28, 15, 27,\n",
       "       26, 25, 29,  0, 24,  1,  6, 16,  5,  8, 12,  0,  0, 20,  3,  9,  1,\n",
       "        0,  2, 25, 19,  8, 28, 18, 14, 29, 19,  1, 19, 22, 20,  0,  6,  5,\n",
       "       19, 26,  0,  7,  4, 28, 11, 13, 27, 19, 10, 13, 18, 15, 24, 15,  0,\n",
       "       10, 22,  1, 14, 21,  6, 18,  2, 23, 21, 20,  9, 21,  7, 18, 25, 12,\n",
       "       15,  9,  1, 27,  0, 23,  5,  3, 26, 25, 22, 10,  7, 22, 26, 12, 13,\n",
       "       27, 13, 29,  2,  6, 21, 20,  9,  8, 22,  6, 26,  8,  9, 21, 19,  3,\n",
       "       12,  1, 13,  8, 22, 21, 28,  5, 27, 28, 10,  2, 25, 14,  6,  6, 24,\n",
       "       19, 25,  2, 14, 24, 21, 12, 18, 18, 28, 23, 17, 24,  8,  1,  5, 10,\n",
       "        9, 17, 13,  4, 22, 23, 13, 17,  4, 27,  4, 11, 17])"
      ]
     },
     "execution_count": 33,
     "metadata": {},
     "output_type": "execute_result"
    }
   ],
   "source": [
    "Y"
   ]
  },
  {
   "cell_type": "code",
   "execution_count": null,
   "metadata": {
    "collapsed": true
   },
   "outputs": [],
   "source": []
  }
 ],
 "metadata": {
  "kernelspec": {
   "display_name": "Python 3",
   "language": "python",
   "name": "python3"
  },
  "language_info": {
   "codemirror_mode": {
    "name": "ipython",
    "version": 3
   },
   "file_extension": ".py",
   "mimetype": "text/x-python",
   "name": "python",
   "nbconvert_exporter": "python",
   "pygments_lexer": "ipython3",
   "version": "3.5.2"
  }
 },
 "nbformat": 4,
 "nbformat_minor": 2
}
