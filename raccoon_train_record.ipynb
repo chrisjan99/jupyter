{
 "cells": [
  {
   "cell_type": "code",
   "execution_count": null,
   "metadata": {
    "collapsed": true
   },
   "outputs": [],
   "source": [
    "import os\n",
    "import io\n",
    "import sys\n",
    "import tensorflow as tf\n",
    "import pandas as pd\n",
    "from PIL import Image\n",
    "path = '/home/chrisjan/project/models/object_detection'\n",
    "os.chdir(path)\n",
    "sys.path.append('..')\n",
    "from object_detection.utils import dataset_util\n",
    "\n",
    "raccoon_image_dir = '/home/chrisjan/project/training/raccoon/images'\n",
    "train_csv_file = '/home/chrisjan/project/training/raccoon/data/train_labels.csv'\n",
    "test_csv_file = '/home/chrisjan/project/training/raccoon/data/test_labels.csv'\n",
    "output_train_record_file = '/home/chrisjan/project/training/raccoon/data/train.record'\n",
    "output_test_record_file = '/home/chrisjan/project/training/raccoon/data/test.record'"
   ]
  },
  {
   "cell_type": "code",
   "execution_count": null,
   "metadata": {
    "collapsed": true
   },
   "outputs": [],
   "source": [
    "def create_tf_example(row):\n",
    "    full_path = raccoon_image_dir + '/' + row['filename']\n",
    "    with tf.gfile.GFile(full_path, 'rb') as fid:\n",
    "        encoded_jpg = fid.read()\n",
    "    encoded_jpg_io = io.BytesIO(encoded_jpg)\n",
    "    image = Image.open(encoded_jpg_io)\n",
    "    width, height = image.size\n",
    "    filename = row['filename'].encode('utf8')\n",
    "    image_format = b'jpg'\n",
    "    xmins = [row['xmin'] / width]\n",
    "    xmaxs = [row['xmax'] / width]\n",
    "    ymins = [row['ymin'] / height]\n",
    "    ymaxs = [row['ymax'] / height]\n",
    "    classes_text = [row['class'].encode('utf8')]\n",
    "    classes = [1]\n",
    "    tf_example = tf.train.Example(features=tf.train.Features(feature={\n",
    "        'image/height': dataset_util.int64_feature(height),\n",
    "        'image/width': dataset_util.int64_feature(width),\n",
    "        'image/filename': dataset_util.bytes_feature(filename),\n",
    "        'image/source_id': dataset_util.bytes_feature(filename),\n",
    "        'image/encoded': dataset_util.bytes_feature(encoded_jpg),\n",
    "        'image/format': dataset_util.bytes_feature(image_format),\n",
    "        'image/object/bbox/xmin': dataset_util.float_list_feature(xmins),\n",
    "        'image/object/bbox/xmax': dataset_util.float_list_feature(xmaxs),\n",
    "        'image/object/bbox/ymin': dataset_util.float_list_feature(ymins),\n",
    "        'image/object/bbox/ymax': dataset_util.float_list_feature(ymaxs),\n",
    "        'image/object/class/text': dataset_util.bytes_list_feature(classes_text),\n",
    "        'image/object/class/label': dataset_util.int64_list_feature(classes),\n",
    "    }))\n",
    "    return tf_example"
   ]
  },
  {
   "cell_type": "code",
   "execution_count": null,
   "metadata": {
    "collapsed": true
   },
   "outputs": [],
   "source": [
    "train_examples = pd.read_csv(train_csv_file)\n",
    "writer_train = tf.python_io.TFRecordWriter(output_train_record_file)\n",
    "for index, row in train_examples.iterrows():\n",
    "    train_example = create_tf_example(row)\n",
    "    writer_train.write(train_example.SerializeToString())\n",
    "writer_train.close()\n",
    "test_examples = pd.read_csv(test_csv_file)\n",
    "writer_test = tf.python_io.TFRecordWriter(output_test_record_file)\n",
    "for index, row in test_examples.iterrows():\n",
    "    test_example = create_tf_example(row)\n",
    "    writer_test.write(test_example.SerializeToString())\n",
    "writer_test.close()"
   ]
  }
 ],
 "metadata": {
  "kernelspec": {
   "display_name": "Python 3",
   "language": "python",
   "name": "python3"
  },
  "language_info": {
   "codemirror_mode": {
    "name": "ipython",
    "version": 3
   },
   "file_extension": ".py",
   "mimetype": "text/x-python",
   "name": "python",
   "nbconvert_exporter": "python",
   "pygments_lexer": "ipython3",
   "version": "3.5.2"
  }
 },
 "nbformat": 4,
 "nbformat_minor": 2
}
