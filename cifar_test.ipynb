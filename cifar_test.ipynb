{
 "cells": [
  {
   "cell_type": "code",
   "execution_count": 1,
   "metadata": {
    "collapsed": true
   },
   "outputs": [],
   "source": [
    "import os\n",
    "import sys\n",
    "from six.moves import xrange\n",
    "import tensorflow as tf"
   ]
  },
  {
   "cell_type": "code",
   "execution_count": 25,
   "metadata": {
    "collapsed": true
   },
   "outputs": [],
   "source": [
    "data_dir = '/tmp/cifar10_data/cifar-10-batches-bin'\n",
    "IMAGE_SIZE = 24\n",
    "batch_size = 128\n",
    "NUM_EXAMPLES_PER_EPOCH_FOR_TRAIN = 50000"
   ]
  },
  {
   "cell_type": "code",
   "execution_count": 3,
   "metadata": {
    "collapsed": true
   },
   "outputs": [],
   "source": [
    "filenames = [os.path.join(data_dir, 'data_batch_%d.bin' % i) for i in xrange(1, 6)]\n",
    "filename_queue = tf.train.string_input_producer(filenames)"
   ]
  },
  {
   "cell_type": "code",
   "execution_count": 22,
   "metadata": {
    "collapsed": true
   },
   "outputs": [],
   "source": [
    "def _generate_image_and_label_batch(image, label, min_queue_examples, batch_size, shuffle):\n",
    "    num_preprocess_threads = 16\n",
    "    if shuffle:\n",
    "        images, label_batch = tf.train.shuffle_batch([image, label], batch_size=batch_size, num_threads=num_preprocess_threads, capacity=min_queue_examples + 3 * batch_size, min_after_dequeue=min_queue_examples)\n",
    "    else:\n",
    "        images, label_batch = tf.train.batch([image, label], batch_size=batch_size, num_threads=num_preprocess_threads, capacity=min_queue_examples + 3 * batch_size)\n",
    "    tf.summary.image('images', images)\n",
    "    return images, tf.reshape(label_batch, [batch_size])"
   ]
  },
  {
   "cell_type": "code",
   "execution_count": 4,
   "metadata": {
    "collapsed": true
   },
   "outputs": [],
   "source": [
    "class CIFAR10Record(object):                                                \n",
    "    pass\n",
    "result = CIFAR10Record() "
   ]
  },
  {
   "cell_type": "code",
   "execution_count": 7,
   "metadata": {
    "collapsed": true
   },
   "outputs": [],
   "source": [
    "label_bytes = 1\n",
    "result.height = 32\n",
    "result.width = 32\n",
    "result.depth = 3 #R,G,B 3 channels\n",
    "image_bytes = result.height * result.width * result.depth\n",
    "record_bytes = label_bytes + image_bytes\n",
    "reader = tf.FixedLengthRecordReader(record_bytes = record_bytes)\n",
    "result.key, value = reader.read(filename_queue)\n",
    "record_bytes = tf.decode_raw(value, tf.uint8)\n",
    "result.label = tf.cast(tf.strided_slice(record_bytes, [0], [label_bytes]), tf.int32)\n",
    "depth_major = tf.reshape(tf.strided_slice(record_bytes, [label_bytes], [label_bytes + image_bytes]), [result.depth, result.height, result.width])\n",
    "result.uint8image = tf.transpose(depth_major, [1, 2, 0])\n",
    "reshaped_image = tf.cast(result.uint8image, tf.float32)"
   ]
  },
  {
   "cell_type": "code",
   "execution_count": 10,
   "metadata": {},
   "outputs": [],
   "source": [
    "height = IMAGE_SIZE\n",
    "width = IMAGE_SIZE"
   ]
  },
  {
   "cell_type": "code",
   "execution_count": 19,
   "metadata": {},
   "outputs": [],
   "source": [
    "distorted_image = tf.random_crop(reshaped_image, [height, width, 3])\n",
    "distorted_image = tf.image.random_flip_left_right(distorted_image)\n",
    "distorted_image = tf.image.random_brightness(distorted_image, max_delta=63)\n",
    "distorted_image = tf.image.random_contrast(distorted_image, lower=0.2, upper=1.8)\n",
    "float_image = tf.image.per_image_standardization(distorted_image)\n",
    "float_image.set_shape([height, width, 3])\n",
    "result.label.set_shape([1])"
   ]
  },
  {
   "cell_type": "code",
   "execution_count": 21,
   "metadata": {},
   "outputs": [
    {
     "name": "stdout",
     "output_type": "stream",
     "text": [
      "Filling queue with 20000 CIFAR images before starting to train. This will take a few minutes.\n"
     ]
    }
   ],
   "source": [
    "min_fraction_of_examples_in_queue = 0.4\n",
    "min_queue_examples = int(NUM_EXAMPLES_PER_EPOCH_FOR_TRAIN * min_fraction_of_examples_in_queue)\n",
    "print ('Filling queue with %d CIFAR images before starting to train. This will take a few minutes.' % min_queue_examples)"
   ]
  },
  {
   "cell_type": "code",
   "execution_count": 26,
   "metadata": {},
   "outputs": [
    {
     "data": {
      "text/plain": [
       "(<tf.Tensor 'shuffle_batch:0' shape=(128, 24, 24, 3) dtype=float32>,\n",
       " <tf.Tensor 'Reshape_2:0' shape=(128,) dtype=int32>)"
      ]
     },
     "execution_count": 26,
     "metadata": {},
     "output_type": "execute_result"
    }
   ],
   "source": [
    "_generate_image_and_label_batch(float_image, result.label, min_queue_examples, batch_size, shuffle=True)"
   ]
  },
  {
   "cell_type": "code",
   "execution_count": null,
   "metadata": {
    "collapsed": true
   },
   "outputs": [],
   "source": []
  }
 ],
 "metadata": {
  "kernelspec": {
   "display_name": "Python 3",
   "language": "python",
   "name": "python3"
  },
  "language_info": {
   "codemirror_mode": {
    "name": "ipython",
    "version": 3
   },
   "file_extension": ".py",
   "mimetype": "text/x-python",
   "name": "python",
   "nbconvert_exporter": "python",
   "pygments_lexer": "ipython3",
   "version": "3.5.2"
  }
 },
 "nbformat": 4,
 "nbformat_minor": 2
}
